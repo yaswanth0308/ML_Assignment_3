{
 "cells": [
  {
   "cell_type": "code",
   "execution_count": 2,
   "id": "b7f4b294",
   "metadata": {},
   "outputs": [],
   "source": [
    "import pandas as pd\n",
    "import seaborn as sns\n",
    "from sklearn import preprocessing\n",
    "import matplotlib.pyplot as plt\n",
    "import warnings\n",
    "warnings.filterwarnings(\"ignore\")"
   ]
  },
  {
   "cell_type": "markdown",
   "id": "31adb4e8",
   "metadata": {},
   "source": [
    "Question 1:"
   ]
  },
  {
   "cell_type": "code",
   "execution_count": 3,
   "id": "2a069ae0",
   "metadata": {},
   "outputs": [
    {
     "data": {
      "text/html": [
       "<div>\n",
       "<style scoped>\n",
       "    .dataframe tbody tr th:only-of-type {\n",
       "        vertical-align: middle;\n",
       "    }\n",
       "\n",
       "    .dataframe tbody tr th {\n",
       "        vertical-align: top;\n",
       "    }\n",
       "\n",
       "    .dataframe thead th {\n",
       "        text-align: right;\n",
       "    }\n",
       "</style>\n",
       "<table border=\"1\" class=\"dataframe\">\n",
       "  <thead>\n",
       "    <tr style=\"text-align: right;\">\n",
       "      <th></th>\n",
       "      <th>PassengerId</th>\n",
       "      <th>Survived</th>\n",
       "      <th>Pclass</th>\n",
       "      <th>Name</th>\n",
       "      <th>Sex</th>\n",
       "      <th>Age</th>\n",
       "      <th>SibSp</th>\n",
       "      <th>Parch</th>\n",
       "      <th>Ticket</th>\n",
       "      <th>Fare</th>\n",
       "      <th>Cabin</th>\n",
       "      <th>Embarked</th>\n",
       "    </tr>\n",
       "  </thead>\n",
       "  <tbody>\n",
       "    <tr>\n",
       "      <th>0</th>\n",
       "      <td>1</td>\n",
       "      <td>0</td>\n",
       "      <td>3</td>\n",
       "      <td>Braund, Mr. Owen Harris</td>\n",
       "      <td>male</td>\n",
       "      <td>22.0</td>\n",
       "      <td>1</td>\n",
       "      <td>0</td>\n",
       "      <td>A/5 21171</td>\n",
       "      <td>7.2500</td>\n",
       "      <td>NaN</td>\n",
       "      <td>S</td>\n",
       "    </tr>\n",
       "    <tr>\n",
       "      <th>1</th>\n",
       "      <td>2</td>\n",
       "      <td>1</td>\n",
       "      <td>1</td>\n",
       "      <td>Cumings, Mrs. John Bradley (Florence Briggs Th...</td>\n",
       "      <td>female</td>\n",
       "      <td>38.0</td>\n",
       "      <td>1</td>\n",
       "      <td>0</td>\n",
       "      <td>PC 17599</td>\n",
       "      <td>71.2833</td>\n",
       "      <td>C85</td>\n",
       "      <td>C</td>\n",
       "    </tr>\n",
       "    <tr>\n",
       "      <th>2</th>\n",
       "      <td>3</td>\n",
       "      <td>1</td>\n",
       "      <td>3</td>\n",
       "      <td>Heikkinen, Miss. Laina</td>\n",
       "      <td>female</td>\n",
       "      <td>26.0</td>\n",
       "      <td>0</td>\n",
       "      <td>0</td>\n",
       "      <td>STON/O2. 3101282</td>\n",
       "      <td>7.9250</td>\n",
       "      <td>NaN</td>\n",
       "      <td>S</td>\n",
       "    </tr>\n",
       "    <tr>\n",
       "      <th>3</th>\n",
       "      <td>4</td>\n",
       "      <td>1</td>\n",
       "      <td>1</td>\n",
       "      <td>Futrelle, Mrs. Jacques Heath (Lily May Peel)</td>\n",
       "      <td>female</td>\n",
       "      <td>35.0</td>\n",
       "      <td>1</td>\n",
       "      <td>0</td>\n",
       "      <td>113803</td>\n",
       "      <td>53.1000</td>\n",
       "      <td>C123</td>\n",
       "      <td>S</td>\n",
       "    </tr>\n",
       "    <tr>\n",
       "      <th>4</th>\n",
       "      <td>5</td>\n",
       "      <td>0</td>\n",
       "      <td>3</td>\n",
       "      <td>Allen, Mr. William Henry</td>\n",
       "      <td>male</td>\n",
       "      <td>35.0</td>\n",
       "      <td>0</td>\n",
       "      <td>0</td>\n",
       "      <td>373450</td>\n",
       "      <td>8.0500</td>\n",
       "      <td>NaN</td>\n",
       "      <td>S</td>\n",
       "    </tr>\n",
       "  </tbody>\n",
       "</table>\n",
       "</div>"
      ],
      "text/plain": [
       "   PassengerId  Survived  Pclass  \\\n",
       "0            1         0       3   \n",
       "1            2         1       1   \n",
       "2            3         1       3   \n",
       "3            4         1       1   \n",
       "4            5         0       3   \n",
       "\n",
       "                                                Name     Sex   Age  SibSp  \\\n",
       "0                            Braund, Mr. Owen Harris    male  22.0      1   \n",
       "1  Cumings, Mrs. John Bradley (Florence Briggs Th...  female  38.0      1   \n",
       "2                             Heikkinen, Miss. Laina  female  26.0      0   \n",
       "3       Futrelle, Mrs. Jacques Heath (Lily May Peel)  female  35.0      1   \n",
       "4                           Allen, Mr. William Henry    male  35.0      0   \n",
       "\n",
       "   Parch            Ticket     Fare Cabin Embarked  \n",
       "0      0         A/5 21171   7.2500   NaN        S  \n",
       "1      0          PC 17599  71.2833   C85        C  \n",
       "2      0  STON/O2. 3101282   7.9250   NaN        S  \n",
       "3      0            113803  53.1000  C123        S  \n",
       "4      0            373450   8.0500   NaN        S  "
      ]
     },
     "execution_count": 3,
     "metadata": {},
     "output_type": "execute_result"
    }
   ],
   "source": [
    "data=pd.read_csv(\"Dataset/Dataset/train.csv\")\n",
    "data.head()"
   ]
  },
  {
   "cell_type": "code",
   "execution_count": 4,
   "id": "56bd794d",
   "metadata": {},
   "outputs": [
    {
     "data": {
      "text/plain": [
       "-0.5433513806577552"
      ]
     },
     "execution_count": 4,
     "metadata": {},
     "output_type": "execute_result"
    }
   ],
   "source": [
    "le = preprocessing.LabelEncoder()\n",
    "data['Sex'] = le.fit_transform(data.Sex.values)\n",
    "data['Survived'].corr(data['Sex'])"
   ]
  },
  {
   "cell_type": "markdown",
   "id": "20807faf",
   "metadata": {},
   "source": [
    "Do you think we should keep this feature?\n",
    "\n",
    "Yes, we should keep the sex and survived feature which helps while classifying the data. So, without the sex and surivevd it would vary accuracy."
   ]
  },
  {
   "cell_type": "code",
   "execution_count": 5,
   "id": "f89625bd",
   "metadata": {},
   "outputs": [
    {
     "name": "stdout",
     "output_type": "stream",
     "text": [
      "             PassengerId  Survived    Pclass       Sex       Age     SibSp  \\\n",
      "PassengerId     1.000000 -0.005007 -0.035144  0.042939  0.036847 -0.057527   \n",
      "Survived       -0.005007  1.000000 -0.338481 -0.543351 -0.077221 -0.035322   \n",
      "Pclass         -0.035144 -0.338481  1.000000  0.131900 -0.369226  0.083081   \n",
      "Sex             0.042939 -0.543351  0.131900  1.000000  0.093254 -0.114631   \n",
      "Age             0.036847 -0.077221 -0.369226  0.093254  1.000000 -0.308247   \n",
      "SibSp          -0.057527 -0.035322  0.083081 -0.114631 -0.308247  1.000000   \n",
      "Parch          -0.001652  0.081629  0.018443 -0.245489 -0.189119  0.414838   \n",
      "Fare            0.012658  0.257307 -0.549500 -0.182333  0.096067  0.159651   \n",
      "\n",
      "                Parch      Fare  \n",
      "PassengerId -0.001652  0.012658  \n",
      "Survived     0.081629  0.257307  \n",
      "Pclass       0.018443 -0.549500  \n",
      "Sex         -0.245489 -0.182333  \n",
      "Age         -0.189119  0.096067  \n",
      "SibSp        0.414838  0.159651  \n",
      "Parch        1.000000  0.216225  \n",
      "Fare         0.216225  1.000000  \n"
     ]
    }
   ],
   "source": [
    "matrix = data.corr()\n",
    "print(matrix)"
   ]
  },
  {
   "cell_type": "markdown",
   "id": "08c179fb",
   "metadata": {},
   "source": [
    "Correlation between the columns = 'Survived' and 'Sex'"
   ]
  },
  {
   "cell_type": "code",
   "execution_count": 6,
   "id": "435cb4ef",
   "metadata": {},
   "outputs": [
    {
     "data": {
      "text/html": [
       "<style type=\"text/css\">\n",
       "#T_05b89_row0_col0, #T_05b89_row1_col1, #T_05b89_row2_col2, #T_05b89_row3_col3, #T_05b89_row4_col4, #T_05b89_row5_col5, #T_05b89_row6_col6, #T_05b89_row7_col7 {\n",
       "  background-color: #08306b;\n",
       "  color: #f1f1f1;\n",
       "}\n",
       "#T_05b89_row0_col1 {\n",
       "  background-color: #a6cee4;\n",
       "  color: #000000;\n",
       "}\n",
       "#T_05b89_row0_col2, #T_05b89_row5_col1 {\n",
       "  background-color: #add0e6;\n",
       "  color: #000000;\n",
       "}\n",
       "#T_05b89_row0_col3 {\n",
       "  background-color: #9cc9e1;\n",
       "  color: #000000;\n",
       "}\n",
       "#T_05b89_row0_col4 {\n",
       "  background-color: #b8d5ea;\n",
       "  color: #000000;\n",
       "}\n",
       "#T_05b89_row0_col5, #T_05b89_row6_col3 {\n",
       "  background-color: #d1e2f3;\n",
       "  color: #000000;\n",
       "}\n",
       "#T_05b89_row0_col6 {\n",
       "  background-color: #d0e2f2;\n",
       "  color: #000000;\n",
       "}\n",
       "#T_05b89_row0_col7 {\n",
       "  background-color: #a3cce3;\n",
       "  color: #000000;\n",
       "}\n",
       "#T_05b89_row1_col0, #T_05b89_row4_col6, #T_05b89_row5_col4 {\n",
       "  background-color: #eef5fc;\n",
       "  color: #000000;\n",
       "}\n",
       "#T_05b89_row1_col2 {\n",
       "  background-color: #dceaf6;\n",
       "  color: #000000;\n",
       "}\n",
       "#T_05b89_row1_col3, #T_05b89_row2_col4, #T_05b89_row2_col7, #T_05b89_row3_col1, #T_05b89_row3_col6, #T_05b89_row4_col5, #T_05b89_row5_col0, #T_05b89_row7_col2 {\n",
       "  background-color: #f7fbff;\n",
       "  color: #000000;\n",
       "}\n",
       "#T_05b89_row1_col4, #T_05b89_row2_col6 {\n",
       "  background-color: #cde0f1;\n",
       "  color: #000000;\n",
       "}\n",
       "#T_05b89_row1_col5 {\n",
       "  background-color: #cee0f2;\n",
       "  color: #000000;\n",
       "}\n",
       "#T_05b89_row1_col6 {\n",
       "  background-color: #c2d9ee;\n",
       "  color: #000000;\n",
       "}\n",
       "#T_05b89_row1_col7 {\n",
       "  background-color: #64a9d3;\n",
       "  color: #f1f1f1;\n",
       "}\n",
       "#T_05b89_row2_col0 {\n",
       "  background-color: #f3f8fe;\n",
       "  color: #000000;\n",
       "}\n",
       "#T_05b89_row2_col1, #T_05b89_row6_col4 {\n",
       "  background-color: #ddeaf7;\n",
       "  color: #000000;\n",
       "}\n",
       "#T_05b89_row2_col3, #T_05b89_row3_col2 {\n",
       "  background-color: #84bcdb;\n",
       "  color: #000000;\n",
       "}\n",
       "#T_05b89_row2_col5 {\n",
       "  background-color: #b7d4ea;\n",
       "  color: #000000;\n",
       "}\n",
       "#T_05b89_row3_col0 {\n",
       "  background-color: #e4eff9;\n",
       "  color: #000000;\n",
       "}\n",
       "#T_05b89_row3_col4, #T_05b89_row7_col4 {\n",
       "  background-color: #aacfe5;\n",
       "  color: #000000;\n",
       "}\n",
       "#T_05b89_row3_col5 {\n",
       "  background-color: #dae8f6;\n",
       "  color: #000000;\n",
       "}\n",
       "#T_05b89_row3_col7 {\n",
       "  background-color: #c9ddf0;\n",
       "  color: #000000;\n",
       "}\n",
       "#T_05b89_row4_col0 {\n",
       "  background-color: #e6f0f9;\n",
       "  color: #000000;\n",
       "}\n",
       "#T_05b89_row4_col1 {\n",
       "  background-color: #b5d4e9;\n",
       "  color: #000000;\n",
       "}\n",
       "#T_05b89_row4_col2 {\n",
       "  background-color: #e0ecf8;\n",
       "  color: #000000;\n",
       "}\n",
       "#T_05b89_row4_col3 {\n",
       "  background-color: #8fc2de;\n",
       "  color: #000000;\n",
       "}\n",
       "#T_05b89_row4_col7 {\n",
       "  background-color: #8dc1dd;\n",
       "  color: #000000;\n",
       "}\n",
       "#T_05b89_row5_col2 {\n",
       "  background-color: #91c3de;\n",
       "  color: #000000;\n",
       "}\n",
       "#T_05b89_row5_col3 {\n",
       "  background-color: #bdd7ec;\n",
       "  color: #000000;\n",
       "}\n",
       "#T_05b89_row5_col6 {\n",
       "  background-color: #61a7d2;\n",
       "  color: #f1f1f1;\n",
       "}\n",
       "#T_05b89_row5_col7 {\n",
       "  background-color: #7cb7da;\n",
       "  color: #000000;\n",
       "}\n",
       "#T_05b89_row6_col0 {\n",
       "  background-color: #edf4fc;\n",
       "  color: #000000;\n",
       "}\n",
       "#T_05b89_row6_col1 {\n",
       "  background-color: #92c4de;\n",
       "  color: #000000;\n",
       "}\n",
       "#T_05b89_row6_col2 {\n",
       "  background-color: #a1cbe2;\n",
       "  color: #000000;\n",
       "}\n",
       "#T_05b89_row6_col5 {\n",
       "  background-color: #5aa2cf;\n",
       "  color: #f1f1f1;\n",
       "}\n",
       "#T_05b89_row6_col7 {\n",
       "  background-color: #6dafd7;\n",
       "  color: #f1f1f1;\n",
       "}\n",
       "#T_05b89_row7_col0 {\n",
       "  background-color: #eaf3fb;\n",
       "  color: #000000;\n",
       "}\n",
       "#T_05b89_row7_col1 {\n",
       "  background-color: #65aad4;\n",
       "  color: #f1f1f1;\n",
       "}\n",
       "#T_05b89_row7_col3 {\n",
       "  background-color: #caddf0;\n",
       "  color: #000000;\n",
       "}\n",
       "#T_05b89_row7_col5 {\n",
       "  background-color: #a4cce3;\n",
       "  color: #000000;\n",
       "}\n",
       "#T_05b89_row7_col6 {\n",
       "  background-color: #a0cbe2;\n",
       "  color: #000000;\n",
       "}\n",
       "</style>\n",
       "<table id=\"T_05b89\">\n",
       "  <thead>\n",
       "    <tr>\n",
       "      <th class=\"blank level0\" >&nbsp;</th>\n",
       "      <th id=\"T_05b89_level0_col0\" class=\"col_heading level0 col0\" >PassengerId</th>\n",
       "      <th id=\"T_05b89_level0_col1\" class=\"col_heading level0 col1\" >Survived</th>\n",
       "      <th id=\"T_05b89_level0_col2\" class=\"col_heading level0 col2\" >Pclass</th>\n",
       "      <th id=\"T_05b89_level0_col3\" class=\"col_heading level0 col3\" >Sex</th>\n",
       "      <th id=\"T_05b89_level0_col4\" class=\"col_heading level0 col4\" >Age</th>\n",
       "      <th id=\"T_05b89_level0_col5\" class=\"col_heading level0 col5\" >SibSp</th>\n",
       "      <th id=\"T_05b89_level0_col6\" class=\"col_heading level0 col6\" >Parch</th>\n",
       "      <th id=\"T_05b89_level0_col7\" class=\"col_heading level0 col7\" >Fare</th>\n",
       "    </tr>\n",
       "  </thead>\n",
       "  <tbody>\n",
       "    <tr>\n",
       "      <th id=\"T_05b89_level0_row0\" class=\"row_heading level0 row0\" >PassengerId</th>\n",
       "      <td id=\"T_05b89_row0_col0\" class=\"data row0 col0\" >1.000000</td>\n",
       "      <td id=\"T_05b89_row0_col1\" class=\"data row0 col1\" >-0.005007</td>\n",
       "      <td id=\"T_05b89_row0_col2\" class=\"data row0 col2\" >-0.035144</td>\n",
       "      <td id=\"T_05b89_row0_col3\" class=\"data row0 col3\" >0.042939</td>\n",
       "      <td id=\"T_05b89_row0_col4\" class=\"data row0 col4\" >0.036847</td>\n",
       "      <td id=\"T_05b89_row0_col5\" class=\"data row0 col5\" >-0.057527</td>\n",
       "      <td id=\"T_05b89_row0_col6\" class=\"data row0 col6\" >-0.001652</td>\n",
       "      <td id=\"T_05b89_row0_col7\" class=\"data row0 col7\" >0.012658</td>\n",
       "    </tr>\n",
       "    <tr>\n",
       "      <th id=\"T_05b89_level0_row1\" class=\"row_heading level0 row1\" >Survived</th>\n",
       "      <td id=\"T_05b89_row1_col0\" class=\"data row1 col0\" >-0.005007</td>\n",
       "      <td id=\"T_05b89_row1_col1\" class=\"data row1 col1\" >1.000000</td>\n",
       "      <td id=\"T_05b89_row1_col2\" class=\"data row1 col2\" >-0.338481</td>\n",
       "      <td id=\"T_05b89_row1_col3\" class=\"data row1 col3\" >-0.543351</td>\n",
       "      <td id=\"T_05b89_row1_col4\" class=\"data row1 col4\" >-0.077221</td>\n",
       "      <td id=\"T_05b89_row1_col5\" class=\"data row1 col5\" >-0.035322</td>\n",
       "      <td id=\"T_05b89_row1_col6\" class=\"data row1 col6\" >0.081629</td>\n",
       "      <td id=\"T_05b89_row1_col7\" class=\"data row1 col7\" >0.257307</td>\n",
       "    </tr>\n",
       "    <tr>\n",
       "      <th id=\"T_05b89_level0_row2\" class=\"row_heading level0 row2\" >Pclass</th>\n",
       "      <td id=\"T_05b89_row2_col0\" class=\"data row2 col0\" >-0.035144</td>\n",
       "      <td id=\"T_05b89_row2_col1\" class=\"data row2 col1\" >-0.338481</td>\n",
       "      <td id=\"T_05b89_row2_col2\" class=\"data row2 col2\" >1.000000</td>\n",
       "      <td id=\"T_05b89_row2_col3\" class=\"data row2 col3\" >0.131900</td>\n",
       "      <td id=\"T_05b89_row2_col4\" class=\"data row2 col4\" >-0.369226</td>\n",
       "      <td id=\"T_05b89_row2_col5\" class=\"data row2 col5\" >0.083081</td>\n",
       "      <td id=\"T_05b89_row2_col6\" class=\"data row2 col6\" >0.018443</td>\n",
       "      <td id=\"T_05b89_row2_col7\" class=\"data row2 col7\" >-0.549500</td>\n",
       "    </tr>\n",
       "    <tr>\n",
       "      <th id=\"T_05b89_level0_row3\" class=\"row_heading level0 row3\" >Sex</th>\n",
       "      <td id=\"T_05b89_row3_col0\" class=\"data row3 col0\" >0.042939</td>\n",
       "      <td id=\"T_05b89_row3_col1\" class=\"data row3 col1\" >-0.543351</td>\n",
       "      <td id=\"T_05b89_row3_col2\" class=\"data row3 col2\" >0.131900</td>\n",
       "      <td id=\"T_05b89_row3_col3\" class=\"data row3 col3\" >1.000000</td>\n",
       "      <td id=\"T_05b89_row3_col4\" class=\"data row3 col4\" >0.093254</td>\n",
       "      <td id=\"T_05b89_row3_col5\" class=\"data row3 col5\" >-0.114631</td>\n",
       "      <td id=\"T_05b89_row3_col6\" class=\"data row3 col6\" >-0.245489</td>\n",
       "      <td id=\"T_05b89_row3_col7\" class=\"data row3 col7\" >-0.182333</td>\n",
       "    </tr>\n",
       "    <tr>\n",
       "      <th id=\"T_05b89_level0_row4\" class=\"row_heading level0 row4\" >Age</th>\n",
       "      <td id=\"T_05b89_row4_col0\" class=\"data row4 col0\" >0.036847</td>\n",
       "      <td id=\"T_05b89_row4_col1\" class=\"data row4 col1\" >-0.077221</td>\n",
       "      <td id=\"T_05b89_row4_col2\" class=\"data row4 col2\" >-0.369226</td>\n",
       "      <td id=\"T_05b89_row4_col3\" class=\"data row4 col3\" >0.093254</td>\n",
       "      <td id=\"T_05b89_row4_col4\" class=\"data row4 col4\" >1.000000</td>\n",
       "      <td id=\"T_05b89_row4_col5\" class=\"data row4 col5\" >-0.308247</td>\n",
       "      <td id=\"T_05b89_row4_col6\" class=\"data row4 col6\" >-0.189119</td>\n",
       "      <td id=\"T_05b89_row4_col7\" class=\"data row4 col7\" >0.096067</td>\n",
       "    </tr>\n",
       "    <tr>\n",
       "      <th id=\"T_05b89_level0_row5\" class=\"row_heading level0 row5\" >SibSp</th>\n",
       "      <td id=\"T_05b89_row5_col0\" class=\"data row5 col0\" >-0.057527</td>\n",
       "      <td id=\"T_05b89_row5_col1\" class=\"data row5 col1\" >-0.035322</td>\n",
       "      <td id=\"T_05b89_row5_col2\" class=\"data row5 col2\" >0.083081</td>\n",
       "      <td id=\"T_05b89_row5_col3\" class=\"data row5 col3\" >-0.114631</td>\n",
       "      <td id=\"T_05b89_row5_col4\" class=\"data row5 col4\" >-0.308247</td>\n",
       "      <td id=\"T_05b89_row5_col5\" class=\"data row5 col5\" >1.000000</td>\n",
       "      <td id=\"T_05b89_row5_col6\" class=\"data row5 col6\" >0.414838</td>\n",
       "      <td id=\"T_05b89_row5_col7\" class=\"data row5 col7\" >0.159651</td>\n",
       "    </tr>\n",
       "    <tr>\n",
       "      <th id=\"T_05b89_level0_row6\" class=\"row_heading level0 row6\" >Parch</th>\n",
       "      <td id=\"T_05b89_row6_col0\" class=\"data row6 col0\" >-0.001652</td>\n",
       "      <td id=\"T_05b89_row6_col1\" class=\"data row6 col1\" >0.081629</td>\n",
       "      <td id=\"T_05b89_row6_col2\" class=\"data row6 col2\" >0.018443</td>\n",
       "      <td id=\"T_05b89_row6_col3\" class=\"data row6 col3\" >-0.245489</td>\n",
       "      <td id=\"T_05b89_row6_col4\" class=\"data row6 col4\" >-0.189119</td>\n",
       "      <td id=\"T_05b89_row6_col5\" class=\"data row6 col5\" >0.414838</td>\n",
       "      <td id=\"T_05b89_row6_col6\" class=\"data row6 col6\" >1.000000</td>\n",
       "      <td id=\"T_05b89_row6_col7\" class=\"data row6 col7\" >0.216225</td>\n",
       "    </tr>\n",
       "    <tr>\n",
       "      <th id=\"T_05b89_level0_row7\" class=\"row_heading level0 row7\" >Fare</th>\n",
       "      <td id=\"T_05b89_row7_col0\" class=\"data row7 col0\" >0.012658</td>\n",
       "      <td id=\"T_05b89_row7_col1\" class=\"data row7 col1\" >0.257307</td>\n",
       "      <td id=\"T_05b89_row7_col2\" class=\"data row7 col2\" >-0.549500</td>\n",
       "      <td id=\"T_05b89_row7_col3\" class=\"data row7 col3\" >-0.182333</td>\n",
       "      <td id=\"T_05b89_row7_col4\" class=\"data row7 col4\" >0.096067</td>\n",
       "      <td id=\"T_05b89_row7_col5\" class=\"data row7 col5\" >0.159651</td>\n",
       "      <td id=\"T_05b89_row7_col6\" class=\"data row7 col6\" >0.216225</td>\n",
       "      <td id=\"T_05b89_row7_col7\" class=\"data row7 col7\" >1.000000</td>\n",
       "    </tr>\n",
       "  </tbody>\n",
       "</table>\n"
      ],
      "text/plain": [
       "<pandas.io.formats.style.Styler at 0x291507fd6d0>"
      ]
     },
     "execution_count": 6,
     "metadata": {},
     "output_type": "execute_result"
    }
   ],
   "source": [
    "data.corr().style.background_gradient(cmap=\"Blues\")"
   ]
  },
  {
   "cell_type": "code",
   "execution_count": 7,
   "id": "74290d2c",
   "metadata": {},
   "outputs": [
    {
     "data": {
      "text/plain": [
       "<AxesSubplot:xlabel='Sex', ylabel='Survived'>"
      ]
     },
     "execution_count": 7,
     "metadata": {},
     "output_type": "execute_result"
    },
    {
     "data": {
      "image/png": "[encoded data removed]",
      "text/plain": [
       "<Figure size 432x288 with 1 Axes>"
      ]
     },
     "metadata": {
      "needs_background": "light"
     },
     "output_type": "display_data"
    }
   ],
   "source": [
    "sns.barplot(x='Sex', y='Survived', data=data)"
   ]
  },
  {
   "cell_type": "code",
   "execution_count": 8,
   "id": "ba8f8891",
   "metadata": {},
   "outputs": [
    {
     "data": {
      "image/png": "[encoded data removed]",
      "text/plain": [
       "<Figure size 900x360 with 1 Axes>"
      ]
     },
     "metadata": {
      "needs_background": "light"
     },
     "output_type": "display_data"
    }
   ],
   "source": [
    "axes = sns.factorplot('Sex','Survived', \n",
    "                      data=data, aspect = 2.5, )"
   ]
  },
  {
   "cell_type": "code",
   "execution_count": 9,
   "id": "8f3bb2f1",
   "metadata": {},
   "outputs": [
    {
     "data": {
      "text/plain": [
       "<seaborn.axisgrid.FacetGrid at 0x2915161f370>"
      ]
     },
     "execution_count": 9,
     "metadata": {},
     "output_type": "execute_result"
    },
    {
     "data": {
      "image/png": "[encoded data removed]",
      "text/plain": [
       "<Figure size 526.4x648 with 2 Axes>"
      ]
     },
     "metadata": {
      "needs_background": "light"
     },
     "output_type": "display_data"
    }
   ],
   "source": [
    "FacetGrid = sns.FacetGrid(data, row='Survived', size=4.5, aspect=1.6)\n",
    "FacetGrid.map(sns.pointplot,'Survived', 'Sex', palette=None,  order=None, hue_order=None )\n",
    "FacetGrid.add_legend()"
   ]
  },
  {
   "cell_type": "code",
   "execution_count": 10,
   "id": "8c585958",
   "metadata": {},
   "outputs": [
    {
     "data": {
      "image/png": "[encoded data removed]",
      "text/plain": [
       "<Figure size 432x288 with 2 Axes>"
      ]
     },
     "metadata": {
      "needs_background": "light"
     },
     "output_type": "display_data"
    }
   ],
   "source": [
    "sns.heatmap(matrix, annot=True, vmax=1, vmin=-1, center=0, cmap='vlag')\n",
    "plt.show()"
   ]
  },
  {
   "cell_type": "code",
   "execution_count": 11,
   "id": "79a7efd4",
   "metadata": {},
   "outputs": [],
   "source": [
    "#NaÃƒÂ¯ve Bayes method \n",
    "\n",
    "train_raw = pd.read_csv('Dataset/Dataset/train.csv')\n",
    "test_raw = pd.read_csv('Dataset/Dataset/test.csv')\n",
    "\n",
    "# Join data to analyse and process the set as one.\n",
    "train_raw['train'] = 1\n",
    "test_raw['train'] = 0\n",
    "data = train_raw.append(test_raw, sort=False)"
   ]
  },
  {
   "cell_type": "code",
   "execution_count": 12,
   "id": "efa6c77d",
   "metadata": {},
   "outputs": [],
   "source": [
    "features = ['Age', 'Embarked', 'Fare', 'Parch', 'Pclass', 'Sex', 'SibSp']\n",
    "target = 'Survived'\n",
    "\n",
    "data = data[features + [target] + ['train']]\n",
    "# Categorical values need to be transformed into numeric.\n",
    "data['Sex'] = data['Sex'].replace([\"female\", \"male\"], [0, 1])\n",
    "data['Embarked'] = data['Embarked'].replace(['S', 'C', 'Q'], [1, 2, 3])\n",
    "train = data.query('train == 1')\n",
    "test = data.query('train == 0')"
   ]
  },
  {
   "cell_type": "code",
   "execution_count": 13,
   "id": "e467955e",
   "metadata": {},
   "outputs": [],
   "source": [
    "# Drop missing values from the train set.\n",
    "train.dropna(axis=0, inplace=True)\n",
    "labels = train[target].values\n",
    "\n",
    "\n",
    "train.drop(['train', target, 'Pclass'], axis=1, inplace=True)\n",
    "test.drop(['train', target, 'Pclass'], axis=1, inplace=True)"
   ]
  },
  {
   "cell_type": "code",
   "execution_count": 14,
   "id": "c1cb645d",
   "metadata": {},
   "outputs": [],
   "source": [
    "from sklearn.model_selection import train_test_split, cross_validate\n",
    "\n",
    "X_train, X_val, Y_train, Y_val = train_test_split(train, labels, test_size=0.2, random_state=1)"
   ]
  },
  {
   "cell_type": "code",
   "execution_count": 15,
   "id": "02411160",
   "metadata": {},
   "outputs": [],
   "source": [
    "import numpy as np\n",
    "import pandas as pd\n",
    "import seaborn as sns\n",
    "import matplotlib.pyplot as plt\n",
    "from scipy.stats.stats import pearsonr\n",
    "from sklearn.naive_bayes import GaussianNB\n",
    "from sklearn.model_selection import train_test_split\n",
    "from sklearn.metrics import accuracy_score, recall_score, precision_score, classification_report, confusion_matrix\n",
    "\n",
    "%matplotlib inline"
   ]
  },
  {
   "cell_type": "code",
   "execution_count": 16,
   "id": "ff35389a",
   "metadata": {},
   "outputs": [
    {
     "data": {
      "text/plain": [
       "GaussianNB()"
      ]
     },
     "execution_count": 16,
     "metadata": {},
     "output_type": "execute_result"
    }
   ],
   "source": [
    "classifier = GaussianNB()\n",
    "\n",
    "classifier.fit(X_train, Y_train)"
   ]
  },
  {
   "cell_type": "code",
   "execution_count": 17,
   "id": "7a6dd7ba",
   "metadata": {},
   "outputs": [
    {
     "name": "stdout",
     "output_type": "stream",
     "text": [
      "              precision    recall  f1-score   support\n",
      "\n",
      "         0.0       0.79      0.80      0.80        85\n",
      "         1.0       0.70      0.69      0.70        58\n",
      "\n",
      "    accuracy                           0.76       143\n",
      "   macro avg       0.75      0.74      0.75       143\n",
      "weighted avg       0.75      0.76      0.75       143\n",
      "\n",
      "[[68 17]\n",
      " [18 40]]\n",
      "accuracy is 0.7552447552447552\n"
     ]
    }
   ],
   "source": [
    "y_pred = classifier.predict(X_val)\n",
    "\n",
    "# Summary of the predictions made by the classifier\n",
    "print(classification_report(Y_val, y_pred))\n",
    "print(confusion_matrix(Y_val, y_pred))\n",
    "# Accuracy score\n",
    "from sklearn.metrics import accuracy_score\n",
    "print('accuracy is',accuracy_score(Y_val, y_pred))"
   ]
  },
  {
   "cell_type": "markdown",
   "id": "9261ba04",
   "metadata": {},
   "source": [
    "Question2\n",
    "\n",
    "PART-1"
   ]
  },
  {
   "cell_type": "code",
   "execution_count": 18,
   "id": "42f0946f",
   "metadata": {},
   "outputs": [
    {
     "data": {
      "text/html": [
       "<div>\n",
       "<style scoped>\n",
       "    .dataframe tbody tr th:only-of-type {\n",
       "        vertical-align: middle;\n",
       "    }\n",
       "\n",
       "    .dataframe tbody tr th {\n",
       "        vertical-align: top;\n",
       "    }\n",
       "\n",
       "    .dataframe thead th {\n",
       "        text-align: right;\n",
       "    }\n",
       "</style>\n",
       "<table border=\"1\" class=\"dataframe\">\n",
       "  <thead>\n",
       "    <tr style=\"text-align: right;\">\n",
       "      <th></th>\n",
       "      <th>RI</th>\n",
       "      <th>Na</th>\n",
       "      <th>Mg</th>\n",
       "      <th>Al</th>\n",
       "      <th>Si</th>\n",
       "      <th>K</th>\n",
       "      <th>Ca</th>\n",
       "      <th>Ba</th>\n",
       "      <th>Fe</th>\n",
       "      <th>Type</th>\n",
       "    </tr>\n",
       "  </thead>\n",
       "  <tbody>\n",
       "    <tr>\n",
       "      <th>0</th>\n",
       "      <td>1.52101</td>\n",
       "      <td>13.64</td>\n",
       "      <td>4.49</td>\n",
       "      <td>1.10</td>\n",
       "      <td>71.78</td>\n",
       "      <td>0.06</td>\n",
       "      <td>8.75</td>\n",
       "      <td>0.0</td>\n",
       "      <td>0.0</td>\n",
       "      <td>1</td>\n",
       "    </tr>\n",
       "    <tr>\n",
       "      <th>1</th>\n",
       "      <td>1.51761</td>\n",
       "      <td>13.89</td>\n",
       "      <td>3.60</td>\n",
       "      <td>1.36</td>\n",
       "      <td>72.73</td>\n",
       "      <td>0.48</td>\n",
       "      <td>7.83</td>\n",
       "      <td>0.0</td>\n",
       "      <td>0.0</td>\n",
       "      <td>1</td>\n",
       "    </tr>\n",
       "    <tr>\n",
       "      <th>2</th>\n",
       "      <td>1.51618</td>\n",
       "      <td>13.53</td>\n",
       "      <td>3.55</td>\n",
       "      <td>1.54</td>\n",
       "      <td>72.99</td>\n",
       "      <td>0.39</td>\n",
       "      <td>7.78</td>\n",
       "      <td>0.0</td>\n",
       "      <td>0.0</td>\n",
       "      <td>1</td>\n",
       "    </tr>\n",
       "    <tr>\n",
       "      <th>3</th>\n",
       "      <td>1.51766</td>\n",
       "      <td>13.21</td>\n",
       "      <td>3.69</td>\n",
       "      <td>1.29</td>\n",
       "      <td>72.61</td>\n",
       "      <td>0.57</td>\n",
       "      <td>8.22</td>\n",
       "      <td>0.0</td>\n",
       "      <td>0.0</td>\n",
       "      <td>1</td>\n",
       "    </tr>\n",
       "    <tr>\n",
       "      <th>4</th>\n",
       "      <td>1.51742</td>\n",
       "      <td>13.27</td>\n",
       "      <td>3.62</td>\n",
       "      <td>1.24</td>\n",
       "      <td>73.08</td>\n",
       "      <td>0.55</td>\n",
       "      <td>8.07</td>\n",
       "      <td>0.0</td>\n",
       "      <td>0.0</td>\n",
       "      <td>1</td>\n",
       "    </tr>\n",
       "  </tbody>\n",
       "</table>\n",
       "</div>"
      ],
      "text/plain": [
       "        RI     Na    Mg    Al     Si     K    Ca   Ba   Fe  Type\n",
       "0  1.52101  13.64  4.49  1.10  71.78  0.06  8.75  0.0  0.0     1\n",
       "1  1.51761  13.89  3.60  1.36  72.73  0.48  7.83  0.0  0.0     1\n",
       "2  1.51618  13.53  3.55  1.54  72.99  0.39  7.78  0.0  0.0     1\n",
       "3  1.51766  13.21  3.69  1.29  72.61  0.57  8.22  0.0  0.0     1\n",
       "4  1.51742  13.27  3.62  1.24  73.08  0.55  8.07  0.0  0.0     1"
      ]
     },
     "execution_count": 18,
     "metadata": {},
     "output_type": "execute_result"
    }
   ],
   "source": [
    "glass=pd.read_csv(\"Dataset/Dataset/glass.csv\")\n",
    "glass.head()"
   ]
  },
  {
   "cell_type": "code",
   "execution_count": 19,
   "id": "e11f6f25",
   "metadata": {},
   "outputs": [],
   "source": [
    "features = ['Rl', 'Na', 'Mg', 'Al', 'Si', 'K', 'Ca', 'Ba', 'Fe']\n",
    "target = 'Type'\n",
    "\n",
    "\n",
    "X_train, X_val, Y_train, Y_val = train_test_split(glass[::-1], glass['Type'],test_size=0.2, random_state=1)\n",
    "\n",
    "classifier = GaussianNB()\n",
    "\n",
    "classifier.fit(X_train, Y_train)\n",
    "\n",
    "\n",
    "y_pred = classifier.predict(X_val)"
   ]
  },
  {
   "cell_type": "code",
   "execution_count": 20,
   "id": "3a636541",
   "metadata": {},
   "outputs": [
    {
     "name": "stdout",
     "output_type": "stream",
     "text": [
      "              precision    recall  f1-score   support\n",
      "\n",
      "           1       0.90      0.95      0.92        19\n",
      "           2       0.92      0.92      0.92        12\n",
      "           3       1.00      0.50      0.67         6\n",
      "           5       0.00      0.00      0.00         1\n",
      "           6       1.00      1.00      1.00         1\n",
      "           7       0.75      0.75      0.75         4\n",
      "\n",
      "    accuracy                           0.84        43\n",
      "   macro avg       0.76      0.69      0.71        43\n",
      "weighted avg       0.89      0.84      0.85        43\n",
      "\n",
      "[[18  1  0  0  0  0]\n",
      " [ 1 11  0  0  0  0]\n",
      " [ 1  0  3  2  0  0]\n",
      " [ 0  0  0  0  0  1]\n",
      " [ 0  0  0  0  1  0]\n",
      " [ 0  0  0  1  0  3]]\n",
      "accuracy is 0.8372093023255814\n"
     ]
    }
   ],
   "source": [
    "# Summary of the predictions made by the classifier\n",
    "print(classification_report(Y_val, y_pred))\n",
    "print(confusion_matrix(Y_val, y_pred))\n",
    "# Accuracy score\n",
    "from sklearn.metrics import accuracy_score\n",
    "print('accuracy is',accuracy_score(Y_val, y_pred))"
   ]
  },
  {
   "cell_type": "markdown",
   "id": "98c82e3d",
   "metadata": {},
   "source": [
    "Question2 \n",
    "\n",
    "Part2"
   ]
  },
  {
   "cell_type": "code",
   "execution_count": 21,
   "id": "1dcab45d",
   "metadata": {},
   "outputs": [
    {
     "name": "stdout",
     "output_type": "stream",
     "text": [
      "              precision    recall  f1-score   support\n",
      "\n",
      "           1       0.90      0.95      0.92        19\n",
      "           2       0.89      0.67      0.76        12\n",
      "           3       0.00      0.00      0.00         6\n",
      "           5       0.00      0.00      0.00         1\n",
      "           6       0.00      0.00      0.00         1\n",
      "           7       0.36      1.00      0.53         4\n",
      "\n",
      "    accuracy                           0.70        43\n",
      "   macro avg       0.36      0.44      0.37        43\n",
      "weighted avg       0.68      0.70      0.67        43\n",
      "\n",
      "[[18  1  0  0  0  0]\n",
      " [ 2  8  0  0  1  1]\n",
      " [ 0  0  0  2  0  4]\n",
      " [ 0  0  0  0  0  1]\n",
      " [ 0  0  0  0  0  1]\n",
      " [ 0  0  0  0  0  4]]\n",
      "accuracy is 0.6976744186046512\n"
     ]
    }
   ],
   "source": [
    "from sklearn.svm import SVC, LinearSVC\n",
    "\n",
    "classifier = LinearSVC()\n",
    "\n",
    "classifier.fit(X_train, Y_train)\n",
    "\n",
    "\n",
    "y_pred = classifier.predict(X_val)\n",
    "\n",
    "# Summary of the predictions made by the classifier\n",
    "print(classification_report(Y_val, y_pred))\n",
    "print(confusion_matrix(Y_val, y_pred))\n",
    "# Accuracy score\n",
    "from sklearn.metrics import accuracy_score\n",
    "print('accuracy is',accuracy_score(Y_val, y_pred))"
   ]
  },
  {
   "cell_type": "markdown",
   "id": "d66e3574",
   "metadata": {},
   "source": [
    "Which algorithm you got better accuracy? Can you justify why?\n",
    "\n",
    "We got better accuracy for NaÃƒÂ¯ve Bayes method which is 0.8372093023255814. Naive Bayes analysis works well with probabilistic concepts where as Linear SVM works better with linear regression logics. But to perform more accurately SVM requies large amounts of data to train and test the data. So, due to the amount of data Naive Bayes algorith gives better accuracy compared to Linear SVM."
   ]
  }
 ],
 "metadata": {
  "kernelspec": {
   "display_name": "Python 3 (ipykernel)",
   "language": "python",
   "name": "python3"
  },
  "language_info": {
   "codemirror_mode": {
    "name": "ipython",
    "version": 3
   },
   "file_extension": ".py",
   "mimetype": "text/x-python",
   "name": "python",
   "nbconvert_exporter": "python",
   "pygments_lexer": "ipython3",
   "version": "3.9.12"
  }
 },
 "nbformat": 4,
 "nbformat_minor": 5
}
